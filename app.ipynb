{
 "cells": [
  {
   "cell_type": "code",
   "execution_count": 12,
   "metadata": {},
   "outputs": [
    {
     "name": "stderr",
     "output_type": "stream",
     "text": [
      "/var/folders/1j/svhz15yn3bqgk7zfgd1m4xb40000gn/T/ipykernel_88775/138061474.py:15: UserWarning: 'has_mps' is deprecated, please use 'torch.backends.mps.is_built()'\n",
      "  elif (torch.has_mps or torch.backends.mps.is_available()) and ALLOW_MPS:\n"
     ]
    },
    {
     "name": "stdout",
     "output_type": "stream",
     "text": [
      "Using device: cpu\n"
     ]
    },
    {
     "ename": "TypeError",
     "evalue": "descriptor '__init__' requires a 'super' object but received a 'ResidualBlock'",
     "output_type": "error",
     "traceback": [
      "\u001b[31m---------------------------------------------------------------------------\u001b[39m",
      "\u001b[31mTypeError\u001b[39m                                 Traceback (most recent call last)",
      "\u001b[36mCell\u001b[39m\u001b[36m \u001b[39m\u001b[32mIn[12]\u001b[39m\u001b[32m, line 24\u001b[39m\n\u001b[32m     22\u001b[39m tokenizer = CLIPTokenizer(vocab_file=vocab_path, merges_file=merges_path)\n\u001b[32m     23\u001b[39m model_file = \u001b[33m\"\u001b[39m\u001b[33m./data/v1-5-pruned-emaonly.ckpt\u001b[39m\u001b[33m\"\u001b[39m\n\u001b[32m---> \u001b[39m\u001b[32m24\u001b[39m models = \u001b[43mloader\u001b[49m\u001b[43m.\u001b[49m\u001b[43mload_model_from_standard_weights\u001b[49m\u001b[43m(\u001b[49m\u001b[43mmodel_file\u001b[49m\u001b[43m,\u001b[49m\u001b[43m \u001b[49m\u001b[43mDEVICE\u001b[49m\u001b[43m)\u001b[49m\n\u001b[32m     26\u001b[39m \u001b[38;5;66;03m# TEXT-2-IMAGE\u001b[39;00m\n\u001b[32m     27\u001b[39m prompt = \u001b[33m\"\u001b[39m\u001b[33ma painting of a beautiful sunset over a calm lake\u001b[39m\u001b[33m\"\u001b[39m\n",
      "\u001b[36mFile \u001b[39m\u001b[32m~/Documents/Khoa luan/Source/loader.py:11\u001b[39m, in \u001b[36mload_model_from_standard_weights\u001b[39m\u001b[34m(ckpt_path, device)\u001b[39m\n\u001b[32m      8\u001b[39m \u001b[38;5;28;01mdef\u001b[39;00m\u001b[38;5;250m \u001b[39m\u001b[34mload_model_from_standard_weights\u001b[39m(ckpt_path, device):\n\u001b[32m      9\u001b[39m     state_dict = converter.load_from_standard_weights(ckpt_path, device)\n\u001b[32m---> \u001b[39m\u001b[32m11\u001b[39m     encoder = \u001b[43mEncoder\u001b[49m\u001b[43m(\u001b[49m\u001b[43m)\u001b[49m.to(device)\n\u001b[32m     12\u001b[39m     encoder.load_state_dict(state_dict[\u001b[33m'\u001b[39m\u001b[33mencoder\u001b[39m\u001b[33m'\u001b[39m], strict=\u001b[38;5;28;01mTrue\u001b[39;00m)\n\u001b[32m     14\u001b[39m     decoder = Decoder().to(device)\n",
      "\u001b[36mFile \u001b[39m\u001b[32m~/Documents/Khoa luan/Source/vae/vae_encoder.py:13\u001b[39m, in \u001b[36mEncoder.__init__\u001b[39m\u001b[34m(self)\u001b[39m\n\u001b[32m      8\u001b[39m \u001b[38;5;28;01mdef\u001b[39;00m\u001b[38;5;250m \u001b[39m\u001b[34m__init__\u001b[39m(\u001b[38;5;28mself\u001b[39m):\n\u001b[32m      9\u001b[39m     \u001b[38;5;28msuper\u001b[39m.\u001b[34m__init__\u001b[39m(\n\u001b[32m     10\u001b[39m         \u001b[38;5;66;03m#(Channel, Height, Width) => (128, Height, Width)\u001b[39;00m\n\u001b[32m     11\u001b[39m         nn.Conv2d(\u001b[32m3\u001b[39m, \u001b[32m128\u001b[39m, kernel_size=\u001b[32m3\u001b[39m, padding=\u001b[32m1\u001b[39m),\n\u001b[32m     12\u001b[39m         \n\u001b[32m---> \u001b[39m\u001b[32m13\u001b[39m         \u001b[43mResidualBlock\u001b[49m\u001b[43m(\u001b[49m\u001b[32;43m128\u001b[39;49m\u001b[43m,\u001b[49m\u001b[43m \u001b[49m\u001b[32;43m128\u001b[39;49m\u001b[43m)\u001b[49m,\n\u001b[32m     14\u001b[39m         ResidualBlock(\u001b[32m128\u001b[39m, \u001b[32m128\u001b[39m),\n\u001b[32m     15\u001b[39m         \n\u001b[32m     16\u001b[39m         \u001b[38;5;66;03m# (128, Height, Width) => (256, Height/2, Width/2)\u001b[39;00m\n\u001b[32m     17\u001b[39m         nn.Conv2d(\u001b[32m128\u001b[39m, \u001b[32m128\u001b[39m, kernel_size=\u001b[32m3\u001b[39m, stride=\u001b[32m2\u001b[39m, padding=\u001b[32m0\u001b[39m),\n\u001b[32m     18\u001b[39m         \n\u001b[32m     19\u001b[39m         ResidualBlock(\u001b[32m128\u001b[39m, \u001b[32m256\u001b[39m),\n\u001b[32m     20\u001b[39m         ResidualBlock(\u001b[32m256\u001b[39m, \u001b[32m256\u001b[39m),\n\u001b[32m     21\u001b[39m         \n\u001b[32m     22\u001b[39m         \u001b[38;5;66;03m# (256, Height/2, Width/2) => (256, Height/4, Width/4)\u001b[39;00m\n\u001b[32m     23\u001b[39m         nn.Conv2d(\u001b[32m256\u001b[39m, \u001b[32m256\u001b[39m, kernel_size=\u001b[32m3\u001b[39m, stride=\u001b[32m2\u001b[39m, padding=\u001b[32m0\u001b[39m),\n\u001b[32m     24\u001b[39m         \n\u001b[32m     25\u001b[39m         ResidualBlock(\u001b[32m256\u001b[39m, \u001b[32m512\u001b[39m),\n\u001b[32m     26\u001b[39m         ResidualBlock(\u001b[32m512\u001b[39m, \u001b[32m512\u001b[39m),\n\u001b[32m     27\u001b[39m         \n\u001b[32m     28\u001b[39m         \u001b[38;5;66;03m# (512, Height/4, Width/4) => (512, Height/8, Width/8)\u001b[39;00m\n\u001b[32m     29\u001b[39m         nn.Conv2d(\u001b[32m512\u001b[39m, \u001b[32m512\u001b[39m, kernel_size=\u001b[32m3\u001b[39m, stride=\u001b[32m2\u001b[39m, padding=\u001b[32m0\u001b[39m),\n\u001b[32m     30\u001b[39m         \n\u001b[32m     31\u001b[39m         ResidualBlock(\u001b[32m512\u001b[39m, \u001b[32m512\u001b[39m),\n\u001b[32m     32\u001b[39m         ResidualBlock(\u001b[32m512\u001b[39m, \u001b[32m512\u001b[39m),\n\u001b[32m     33\u001b[39m         ResidualBlock(\u001b[32m512\u001b[39m, \u001b[32m512\u001b[39m),\n\u001b[32m     34\u001b[39m         \n\u001b[32m     35\u001b[39m         AttentionBlock(\u001b[32m512\u001b[39m),\n\u001b[32m     36\u001b[39m         ResidualBlock(\u001b[32m512\u001b[39m, \u001b[32m512\u001b[39m),\n\u001b[32m     37\u001b[39m         \n\u001b[32m     38\u001b[39m         nn.GroupNorm(\u001b[32m32\u001b[39m, \u001b[32m512\u001b[39m),\n\u001b[32m     39\u001b[39m         nn.SiLU(),\n\u001b[32m     40\u001b[39m         \n\u001b[32m     41\u001b[39m         \u001b[38;5;66;03m# (512, Height/4, Width/4) => (8, Height/8, Width/8)\u001b[39;00m\n\u001b[32m     42\u001b[39m         nn.Conv2d(\u001b[32m512\u001b[39m, \u001b[32m8\u001b[39m, kernel_size=\u001b[32m3\u001b[39m, padding=\u001b[32m1\u001b[39m),\n\u001b[32m     43\u001b[39m         \n\u001b[32m     44\u001b[39m         \u001b[38;5;66;03m# (512, Height/4, Width/4) => (8, Height/8, Width/8)\u001b[39;00m\n\u001b[32m     45\u001b[39m         nn.Conv2d(\u001b[32m8\u001b[39m, \u001b[32m8\u001b[39m, kernel_size=\u001b[32m1\u001b[39m, padding=\u001b[32m0\u001b[39m),\n\u001b[32m     46\u001b[39m     )\n",
      "\u001b[36mFile \u001b[39m\u001b[32m~/Documents/Khoa luan/Source/vae/residual_block.py:7\u001b[39m, in \u001b[36mResidualBlock.__init__\u001b[39m\u001b[34m(self, in_channels, out_channels)\u001b[39m\n\u001b[32m      6\u001b[39m \u001b[38;5;28;01mdef\u001b[39;00m\u001b[38;5;250m \u001b[39m\u001b[34m__init__\u001b[39m(\u001b[38;5;28mself\u001b[39m, in_channels, out_channels):\n\u001b[32m----> \u001b[39m\u001b[32m7\u001b[39m     \u001b[38;5;28;43msuper\u001b[39;49m\u001b[43m.\u001b[49m\u001b[34;43m__init__\u001b[39;49m\u001b[43m(\u001b[49m\u001b[38;5;28;43mself\u001b[39;49m\u001b[43m,\u001b[49m\u001b[43m \u001b[49m\u001b[43min_channels\u001b[49m\u001b[43m,\u001b[49m\u001b[43m \u001b[49m\u001b[43mout_channels\u001b[49m\u001b[43m)\u001b[49m\n\u001b[32m      8\u001b[39m     \u001b[38;5;28mself\u001b[39m.group_norm_1 = nn.GroupNorm(\u001b[32m32\u001b[39m, in_channels)\n\u001b[32m      9\u001b[39m     \u001b[38;5;28mself\u001b[39m.conv_1 = nn.Conv2d(in_channels, out_channels, kernel_size=\u001b[32m3\u001b[39m, padding=\u001b[32m1\u001b[39m)\n",
      "\u001b[31mTypeError\u001b[39m: descriptor '__init__' requires a 'super' object but received a 'ResidualBlock'"
     ]
    }
   ],
   "source": [
    "import loader\n",
    "import pipeline\n",
    "from PIL import Image\n",
    "from transformers import CLIPTokenizer\n",
    "import torch\n",
    "import os\n",
    "\n",
    "DEVICE = \"cpu\"\n",
    "\n",
    "ALLOW_CUDA = False\n",
    "ALLOW_MPS = False\n",
    "\n",
    "if torch.cuda.is_available() and ALLOW_CUDA:\n",
    "    DEVICE = \"cuda\"\n",
    "elif (torch.has_mps or torch.backends.mps.is_available()) and ALLOW_MPS:\n",
    "    DEVICE = \"mps\"\n",
    "print(f\"Using device: {DEVICE}\")\n",
    "\n",
    "# Fix: Load tokenizer from local files correctly\n",
    "vocab_path = os.path.abspath(\"./data/vocab.json\")\n",
    "merges_path = os.path.abspath(\"./data/merges.txt\")\n",
    "tokenizer = CLIPTokenizer(vocab_file=vocab_path, merges_file=merges_path)\n",
    "model_file = \"./data/v1-5-pruned-emaonly.ckpt\"\n",
    "models = loader.load_model_from_standard_weights(model_file, DEVICE)\n",
    "\n",
    "# TEXT-2-IMAGE\n",
    "prompt = \"a painting of a beautiful sunset over a calm lake\"\n",
    "unconditional_prompt = \"\"\n",
    "do_cfg = True\n",
    "cfg_scale = 0.7\n",
    "\n",
    "\n",
    "# IMAGE-2-IMAGE\n",
    "input_image = None\n",
    "# Uncomment and set a valid path to use image-to-image\n",
    "# image_path = \"../images/landscape.jpg\"\n",
    "# input_image = Image.open(image_path)\n",
    "strength = 0.9\n",
    "\n",
    "sampler = \"ddpm\"\n",
    "num_inference_steps = 50\n",
    "seed = 42\n",
    "\n",
    "output_image = pipeline.generate_image(\n",
    "    prompt = prompt,\n",
    "    unconditional_prompt = unconditional_prompt,\n",
    "    input_image = input_image,\n",
    "    strength = strength,\n",
    "    do_cfg = do_cfg,\n",
    "    cfg_scale = cfg_scale,\n",
    "    sampler = sampler,\n",
    "    n_inference_steps = num_inference_steps,\n",
    "    models = models,\n",
    "    seed = seed,\n",
    "    device = DEVICE,\n",
    "    idle_device = \"cpu\",\n",
    "    tokenizer = tokenizer,\n",
    ")\n",
    "\n",
    "Image.fromarray(output_image).show()"
   ]
  }
 ],
 "metadata": {
  "kernelspec": {
   "display_name": ".venv",
   "language": "python",
   "name": "python3"
  },
  "language_info": {
   "codemirror_mode": {
    "name": "ipython",
    "version": 3
   },
   "file_extension": ".py",
   "mimetype": "text/x-python",
   "name": "python",
   "nbconvert_exporter": "python",
   "pygments_lexer": "ipython3",
   "version": "3.12.4"
  }
 },
 "nbformat": 4,
 "nbformat_minor": 2
}
